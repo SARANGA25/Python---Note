{
 "cells": [
  {
   "cell_type": "code",
   "execution_count": 3,
   "id": "26796d39",
   "metadata": {},
   "outputs": [
    {
     "name": "stdout",
     "output_type": "stream",
     "text": [
      "saranaga\n"
     ]
    }
   ],
   "source": [
    "print(\"saranaga\")"
   ]
  },
  {
   "cell_type": "code",
   "execution_count": 1,
   "id": "dd2665e6",
   "metadata": {},
   "outputs": [
    {
     "name": "stdout",
     "output_type": "stream",
     "text": [
      "259\n"
     ]
    }
   ],
   "source": [
    "print(3+256)"
   ]
  },
  {
   "cell_type": "code",
   "execution_count": 2,
   "id": "2e2d6198",
   "metadata": {},
   "outputs": [
    {
     "name": "stdout",
     "output_type": "stream",
     "text": [
      "146.32\n"
     ]
    }
   ],
   "source": [
    "print(3658/25)"
   ]
  },
  {
   "cell_type": "code",
   "execution_count": 5,
   "id": "269995e1",
   "metadata": {},
   "outputs": [
    {
     "name": "stdout",
     "output_type": "stream",
     "text": [
      "8.010917030567686\n"
     ]
    }
   ],
   "source": [
    "print(3669/458)"
   ]
  },
  {
   "cell_type": "code",
   "execution_count": 6,
   "id": "6bf3d814",
   "metadata": {},
   "outputs": [
    {
     "name": "stdout",
     "output_type": "stream",
     "text": [
      "Hello Saranga\n"
     ]
    }
   ],
   "source": [
    "print(\"Hello Saranga\")"
   ]
  },
  {
   "cell_type": "code",
   "execution_count": 9,
   "id": "49938d76",
   "metadata": {},
   "outputs": [
    {
     "name": "stdout",
     "output_type": "stream",
     "text": [
      "Five is greater than two!\n",
      "Five is greater than two!\n"
     ]
    }
   ],
   "source": [
    "if 5 > 2:\n",
    " print (\"Five is greater than two!\") \n",
    "if 5 > 2:\n",
    "        print(\"Five is greater than two!\") "
   ]
  },
  {
   "cell_type": "code",
   "execution_count": 4,
   "id": "09c26376",
   "metadata": {},
   "outputs": [
    {
     "name": "stdout",
     "output_type": "stream",
     "text": [
      "Python is awesome\n"
     ]
    }
   ],
   "source": [
    "x = \"awesome\"\n",
    "\n",
    "def myfunc():\n",
    "  print(\"Python is \" + x)\n",
    "\n",
    "myfunc()\n"
   ]
  },
  {
   "cell_type": "markdown",
   "id": "8fe6cc58",
   "metadata": {},
   "source": [
    "# Python Variables & Variables are containers for storing data values\n",
    "         "
   ]
  },
  {
   "cell_type": "code",
   "execution_count": 73,
   "id": "d098648d",
   "metadata": {},
   "outputs": [
    {
     "name": "stdout",
     "output_type": "stream",
     "text": [
      "MY FAST NAME = SARANAGA\n",
      "MY last NAME = NALAKA\n"
     ]
    }
   ],
   "source": [
    "x = \"NALAKA\"\n",
    "  \n",
    "def myfunc():\n",
    "  x  = \"SARANAGA\"\n",
    "  print(\"MY FAST NAME = \" + x)\n",
    "    \n",
    "myfunc() \n",
    "\n",
    "print(\"MY last NAME = \"  + x)\n",
    "    "
   ]
  },
  {
   "cell_type": "code",
   "execution_count": 68,
   "id": "c10e6e4e",
   "metadata": {},
   "outputs": [
    {
     "name": "stdout",
     "output_type": "stream",
     "text": [
      "Python is fantastic\n",
      "Python is awesome\n"
     ]
    }
   ],
   "source": [
    "x = \"awesome\"\n",
    "\n",
    "def myfunc():\n",
    "  x = \"fantastic\"\n",
    "  print(\"Python is \" + x)\n",
    "\n",
    "myfunc()\n",
    "\n",
    "print(\"Python is \" + x)\n"
   ]
  },
  {
   "cell_type": "code",
   "execution_count": 77,
   "id": "af745f8a",
   "metadata": {},
   "outputs": [
    {
     "name": "stdout",
     "output_type": "stream",
     "text": [
      "MY FAST NAME SARANAGA\n",
      "MY FAST NAME NALAKA\n"
     ]
    }
   ],
   "source": [
    "X = \"NALAKA\"\n",
    "\n",
    "def MYNM():\n",
    "    A =\"SARANAGA\"\n",
    "    print(\"MY FAST NAME \" + A)\n",
    "\n",
    "MYNM()\n",
    "\n",
    "print(\"MY FAST NAME \" + X)"
   ]
  },
  {
   "cell_type": "code",
   "execution_count": 3,
   "id": "bc71929f",
   "metadata": {},
   "outputs": [
    {
     "name": "stdout",
     "output_type": "stream",
     "text": [
      "python is fantastic\n"
     ]
    }
   ],
   "source": [
    "def myfunc():\n",
    "    global x\n",
    "    x = \"fantastic\"\n",
    "    \n",
    "myfunc()\n",
    " \n",
    "print(\"python is \" + x)"
   ]
  },
  {
   "cell_type": "code",
   "execution_count": null,
   "id": "68431432",
   "metadata": {},
   "outputs": [],
   "source": []
  },
  {
   "cell_type": "code",
   "execution_count": 1,
   "id": "186f5555",
   "metadata": {},
   "outputs": [
    {
     "name": "stdout",
     "output_type": "stream",
     "text": [
      "50\n"
     ]
    }
   ],
   "source": [
    "Ang = 20\n",
    "Ang = 50\n",
    "print(Ang)"
   ]
  },
  {
   "cell_type": "code",
   "execution_count": 5,
   "id": "b8591ec5",
   "metadata": {},
   "outputs": [
    {
     "name": "stdout",
     "output_type": "stream",
     "text": [
      "john Smith 26\n"
     ]
    }
   ],
   "source": [
    "P_Name =\"john Smith\"\n",
    "P_age =26\n",
    "print (P_Name ,P_age,) "
   ]
  },
  {
   "cell_type": "markdown",
   "id": "0a966820",
   "metadata": {},
   "source": [
    "# Input Function "
   ]
  },
  {
   "cell_type": "code",
   "execution_count": 1,
   "id": "58ce38a6",
   "metadata": {},
   "outputs": [
    {
     "name": "stdout",
     "output_type": "stream",
     "text": [
      "what is your Namesaranga\n",
      "Hellosaranga\n"
     ]
    }
   ],
   "source": [
    "name = input(\"what is your Name\")\n",
    "print(\"Hello\"+ name)"
   ]
  },
  {
   "cell_type": "code",
   "execution_count": 1,
   "id": "c217d2da",
   "metadata": {},
   "outputs": [
    {
     "name": "stdout",
     "output_type": "stream",
     "text": [
      "Entery your Ang 1997\n",
      "26\n"
     ]
    }
   ],
   "source": [
    "brith_yerar = input(\"Entery your Ang \")\n",
    "Ang = 2023 - int(brith_yerar)\n",
    "print (Ang)"
   ]
  },
  {
   "cell_type": "code",
   "execution_count": 6,
   "id": "0123faf6",
   "metadata": {},
   "outputs": [
    {
     "name": "stdout",
     "output_type": "stream",
     "text": [
      "First :895\n",
      "second :568\n",
      "1463\n"
     ]
    }
   ],
   "source": [
    "First = int(input(\"First :\"))\n",
    "second = int(input(\"second :\"))\n",
    "sum = (First + second)\n",
    "print(sum)"
   ]
  },
  {
   "cell_type": "code",
   "execution_count": 18,
   "id": "510c79a5",
   "metadata": {},
   "outputs": [
    {
     "name": "stdout",
     "output_type": "stream",
     "text": [
      "First :56\n",
      "second :56\n",
      "112\n"
     ]
    }
   ],
   "source": [
    "First = input(\"First :\")\n",
    "second = input(\"second :\")\n",
    "sum = int(First)+ int(second)\n",
    "print(sum)"
   ]
  },
  {
   "cell_type": "markdown",
   "id": "6a92f0af",
   "metadata": {},
   "source": [
    "# Float in Function"
   ]
  },
  {
   "cell_type": "code",
   "execution_count": 1,
   "id": "247f61a2",
   "metadata": {},
   "outputs": [
    {
     "name": "stdout",
     "output_type": "stream",
     "text": [
      "First :56.5\n",
      "second :56.4\n",
      "sum:112.9\n"
     ]
    }
   ],
   "source": [
    "First = input(\"First :\")\n",
    "second = input(\"second :\")\n",
    "sum = float(First)+ float(second)\n",
    "print(\"sum:\"+ str(sum))"
   ]
  },
  {
   "cell_type": "markdown",
   "id": "b9bda0ae",
   "metadata": {},
   "source": [
    "# Strings"
   ]
  },
  {
   "cell_type": "code",
   "execution_count": 2,
   "id": "79e658ae",
   "metadata": {},
   "outputs": [
    {
     "name": "stdout",
     "output_type": "stream",
     "text": [
      "PYTHAN FOR BEGINNERS\n"
     ]
    }
   ],
   "source": [
    "course = \"pythan for Beginners\"\n",
    "print(course.upper())"
   ]
  },
  {
   "cell_type": "code",
   "execution_count": 3,
   "id": "d560c292",
   "metadata": {},
   "outputs": [
    {
     "name": "stdout",
     "output_type": "stream",
     "text": [
      "PYTHAN FOR BEGINNERS\n",
      "pythan for Beginners\n"
     ]
    }
   ],
   "source": [
    "course = \"pythan for Beginners\"\n",
    "print(course.upper())\n",
    "print(course)"
   ]
  },
  {
   "cell_type": "code",
   "execution_count": 6,
   "id": "3a20764e",
   "metadata": {},
   "outputs": [
    {
     "name": "stdout",
     "output_type": "stream",
     "text": [
      "pythan for beginners\n"
     ]
    }
   ],
   "source": [
    "course = \"pythan for Beginners\"\n",
    "print(course.lower())\n",
    "\n"
   ]
  },
  {
   "cell_type": "markdown",
   "id": "3d3fc190",
   "metadata": {},
   "source": [
    "# Find (y) in Strings"
   ]
  },
  {
   "cell_type": "code",
   "execution_count": 7,
   "id": "739c9242",
   "metadata": {},
   "outputs": [
    {
     "name": "stdout",
     "output_type": "stream",
     "text": [
      "1\n"
     ]
    }
   ],
   "source": [
    "course = \"pythan for Beginners\"\n",
    "print(course.find(\"y\"))\n"
   ]
  },
  {
   "cell_type": "code",
   "execution_count": 8,
   "id": "346b6e57",
   "metadata": {},
   "outputs": [
    {
     "name": "stdout",
     "output_type": "stream",
     "text": [
      "7\n"
     ]
    }
   ],
   "source": [
    "course = \"pythan for Beginners\"\n",
    "print(course.find(\"for\"))\n"
   ]
  },
  {
   "cell_type": "code",
   "execution_count": 9,
   "id": "41f9efce",
   "metadata": {},
   "outputs": [
    {
     "name": "stdout",
     "output_type": "stream",
     "text": [
      "pythan 4 Beginners\n"
     ]
    }
   ],
   "source": [
    "course = \"pythan for Beginners\"\n",
    "print(course.replace(\"for\",\"4\"))\n"
   ]
  },
  {
   "cell_type": "markdown",
   "id": "f7d9823a",
   "metadata": {},
   "source": [
    "# Arithmetic Operators ( + , - , * , / , % , **  )"
   ]
  },
  {
   "cell_type": "code",
   "execution_count": 12,
   "id": "46dd17d7",
   "metadata": {},
   "outputs": [
    {
     "name": "stdout",
     "output_type": "stream",
     "text": [
      "1.5\n"
     ]
    }
   ],
   "source": [
    "print(3/2)"
   ]
  },
  {
   "cell_type": "code",
   "execution_count": 13,
   "id": "bf0da8c1",
   "metadata": {},
   "outputs": [
    {
     "name": "stdout",
     "output_type": "stream",
     "text": [
      "1\n"
     ]
    }
   ],
   "source": [
    "print(3//2)"
   ]
  },
  {
   "cell_type": "code",
   "execution_count": 16,
   "id": "f25bc1d5",
   "metadata": {},
   "outputs": [
    {
     "name": "stdout",
     "output_type": "stream",
     "text": [
      "4\n"
     ]
    }
   ],
   "source": [
    "print(256 % 36)"
   ]
  },
  {
   "cell_type": "code",
   "execution_count": 20,
   "id": "ef4bdab4",
   "metadata": {},
   "outputs": [
    {
     "name": "stdout",
     "output_type": "stream",
     "text": [
      "11\n"
     ]
    }
   ],
   "source": [
    "x=3\n",
    "x = x+8\n",
    "print(x)"
   ]
  },
  {
   "cell_type": "code",
   "execution_count": 23,
   "id": "1bfabeee",
   "metadata": {},
   "outputs": [
    {
     "name": "stdout",
     "output_type": "stream",
     "text": [
      "16\n"
     ]
    }
   ],
   "source": [
    "x= 10 + 3*2\n",
    "print(x)"
   ]
  },
  {
   "cell_type": "code",
   "execution_count": 24,
   "id": "32a15018",
   "metadata": {},
   "outputs": [
    {
     "name": "stdout",
     "output_type": "stream",
     "text": [
      "26\n"
     ]
    }
   ],
   "source": [
    "x= (10 + 3)*2\n",
    "print(x)"
   ]
  },
  {
   "cell_type": "markdown",
   "id": "c297ad53",
   "metadata": {},
   "source": [
    "# Comprarison Operators ( >, <, = , == , <= , >= ,=!)"
   ]
  },
  {
   "cell_type": "code",
   "execution_count": 26,
   "id": "8584b42e",
   "metadata": {},
   "outputs": [
    {
     "name": "stdout",
     "output_type": "stream",
     "text": [
      "True\n"
     ]
    }
   ],
   "source": [
    "x=3>2\n",
    "print(x)"
   ]
  },
  {
   "cell_type": "code",
   "execution_count": 30,
   "id": "2cda0f04",
   "metadata": {},
   "outputs": [
    {
     "name": "stdout",
     "output_type": "stream",
     "text": [
      "False\n"
     ]
    }
   ],
   "source": [
    "x=3==2\n",
    "print(x)"
   ]
  },
  {
   "cell_type": "code",
   "execution_count": 34,
   "id": "33823d5f",
   "metadata": {},
   "outputs": [
    {
     "name": "stdout",
     "output_type": "stream",
     "text": [
      "True\n"
     ]
    }
   ],
   "source": [
    "price = 25\n",
    "print(price >10  and  price<30)"
   ]
  },
  {
   "cell_type": "code",
   "execution_count": 35,
   "id": "6cd9cb54",
   "metadata": {},
   "outputs": [
    {
     "name": "stdout",
     "output_type": "stream",
     "text": [
      "True\n"
     ]
    }
   ],
   "source": [
    "price = 25\n",
    "print(price >10  or  price<30)"
   ]
  },
  {
   "cell_type": "code",
   "execution_count": 36,
   "id": "1991e06e",
   "metadata": {},
   "outputs": [
    {
     "name": "stdout",
     "output_type": "stream",
     "text": [
      "True\n"
     ]
    }
   ],
   "source": [
    "price =25\n",
    "print(not price>35)"
   ]
  },
  {
   "cell_type": "markdown",
   "id": "b7ec21b7",
   "metadata": {},
   "source": [
    "# IF Statements"
   ]
  },
  {
   "cell_type": "code",
   "execution_count": 39,
   "id": "c8111172",
   "metadata": {},
   "outputs": [
    {
     "name": "stdout",
     "output_type": "stream",
     "text": [
      "It is a hot day\n",
      "Drink plenty of woter\n"
     ]
    }
   ],
   "source": [
    "tempereture = 35\n",
    "if tempereture > 30:\n",
    "    print(\"It is a hot day\")\n",
    "    print(\"Drink plenty of woter\")"
   ]
  },
  {
   "cell_type": "code",
   "execution_count": 40,
   "id": "4186ee3c",
   "metadata": {},
   "outputs": [
    {
     "name": "stdout",
     "output_type": "stream",
     "text": [
      "It's nice day\n",
      "Done\n"
     ]
    }
   ],
   "source": [
    "tempereture = 25\n",
    "if tempereture > 30:\n",
    "    print(\"It is a hot day\")\n",
    "    print(\"Drink plenty of woter\")\n",
    "elif tempereture > 20:\n",
    "    print(\"It's nice day\")\n",
    "    print(\"Done\")"
   ]
  },
  {
   "cell_type": "code",
   "execution_count": 52,
   "id": "947b54ae",
   "metadata": {},
   "outputs": [
    {
     "name": "stdout",
     "output_type": "stream",
     "text": [
      "It's cold\n"
     ]
    }
   ],
   "source": [
    "tempereture = 5\n",
    "if tempereture > 30:\n",
    "    print(\"It is a hot day\")\n",
    "    print(\"Drink plenty of woter\")\n",
    "elif tempereture > 20:\n",
    "    print(\"It's nice day\")\n",
    "    print(\"Done\")\n",
    "elif tempereture > 10:\n",
    "    print(\"It's nice COLD\")\n",
    "else: \n",
    "    print(\"It's cold\")\n",
    "    "
   ]
  },
  {
   "cell_type": "markdown",
   "id": "c1ecd49b",
   "metadata": {},
   "source": [
    "# Exercise"
   ]
  },
  {
   "cell_type": "code",
   "execution_count": 1,
   "id": "afd4d29c",
   "metadata": {},
   "outputs": [
    {
     "name": "stdout",
     "output_type": "stream",
     "text": [
      "weight:175\n",
      "(K)g or (L) bs:l\n",
      "weight in Kgs:78.75\n"
     ]
    }
   ],
   "source": [
    "weight = int(input(\"weight:\"))\n",
    "unit   = input(\"(K)g or (L) bs:\")\n",
    "if unit.upper()==\"K\":\n",
    "        converted = weight / 0.45\n",
    "        print(\"weight in Lbs :\" + str(converted)) \n",
    "else: \n",
    "    converted = weight *0.45\n",
    "    print(\"weight in Kgs:\" + str(converted)) \n",
    "    "
   ]
  },
  {
   "cell_type": "markdown",
   "id": "94190a6a",
   "metadata": {},
   "source": [
    "# While Loops"
   ]
  },
  {
   "cell_type": "code",
   "execution_count": 5,
   "id": "1131ab05",
   "metadata": {},
   "outputs": [
    {
     "name": "stdout",
     "output_type": "stream",
     "text": [
      "1\n",
      "2\n",
      "3\n",
      "4\n",
      "5\n"
     ]
    }
   ],
   "source": [
    "I = 1\n",
    "while I <= 5:\n",
    "    print(I)\n",
    "    I=I+1"
   ]
  },
  {
   "cell_type": "code",
   "execution_count": 24,
   "id": "fd73822c",
   "metadata": {},
   "outputs": [
    {
     "name": "stdout",
     "output_type": "stream",
     "text": [
      "sarang 2/81/B Paragahakale :1\n",
      "sarang 2/81/B Paragahakale :2\n",
      "sarang 2/81/B Paragahakale :3\n",
      "sarang 2/81/B Paragahakale :4\n",
      "sarang 2/81/B Paragahakale :5\n",
      "sarang 2/81/B Paragahakale :6\n",
      "sarang 2/81/B Paragahakale :7\n",
      "sarang 2/81/B Paragahakale :8\n",
      "sarang 2/81/B Paragahakale :9\n",
      "sarang 2/81/B Paragahakale :10\n",
      "sarang 2/81/B Paragahakale :11\n",
      "sarang 2/81/B Paragahakale :12\n",
      "sarang 2/81/B Paragahakale :13\n",
      "sarang 2/81/B Paragahakale :14\n",
      "sarang 2/81/B Paragahakale :15\n",
      "sarang 2/81/B Paragahakale :16\n",
      "sarang 2/81/B Paragahakale :17\n",
      "sarang 2/81/B Paragahakale :18\n",
      "sarang 2/81/B Paragahakale :19\n",
      "sarang 2/81/B Paragahakale :20\n",
      "sarang 2/81/B Paragahakale :21\n",
      "sarang 2/81/B Paragahakale :22\n"
     ]
    }
   ],
   "source": [
    "I = 1\n",
    "while I <=22 :\n",
    "    print('sarang 2/81/B Paragahakale :'+ str(I))\n",
    "    I=I+1"
   ]
  },
  {
   "cell_type": "code",
   "execution_count": 15,
   "id": "162f36e8",
   "metadata": {},
   "outputs": [
    {
     "name": "stdout",
     "output_type": "stream",
     "text": [
      "Saranag Nalaka\n",
      "Saranag Nalaka\n",
      "Saranag Nalaka\n",
      "Saranag Nalaka\n",
      "Saranag Nalaka\n",
      "Saranag Nalaka\n",
      "Saranag Nalaka\n",
      "Saranag Nalaka\n",
      "Saranag Nalaka\n",
      "Saranag Nalaka\n"
     ]
    }
   ],
   "source": [
    "count = 1\n",
    "while count <= 10:\n",
    "    print(\"Saranag Nalaka\")\n",
    "    count = count + 1\n"
   ]
  },
  {
   "cell_type": "code",
   "execution_count": 17,
   "id": "14d22102",
   "metadata": {},
   "outputs": [
    {
     "name": "stdout",
     "output_type": "stream",
     "text": [
      "saranag :1\n",
      "saranag :2\n",
      "saranag :3\n",
      "saranag :4\n",
      "saranag :5\n",
      "saranag :6\n",
      "saranag :7\n",
      "saranag :8\n",
      "saranag :9\n",
      "saranag :10\n"
     ]
    }
   ],
   "source": [
    "count = 1\n",
    "while count <= 10:\n",
    "    print(\"saranag :\" + str(count))\n",
    "    count = count + 1"
   ]
  },
  {
   "cell_type": "code",
   "execution_count": 1,
   "id": "d30ccbc5",
   "metadata": {},
   "outputs": [
    {
     "name": "stdout",
     "output_type": "stream",
     "text": [
      "*\n",
      "**\n",
      "***\n",
      "****\n",
      "*****\n",
      "******\n",
      "*******\n",
      "********\n",
      "*********\n",
      "**********\n"
     ]
    }
   ],
   "source": [
    "I = 1\n",
    "while I <= 10:\n",
    "    print(I * \"*\")\n",
    "    I=I+1"
   ]
  },
  {
   "cell_type": "code",
   "execution_count": 27,
   "id": "4131e120",
   "metadata": {},
   "outputs": [
    {
     "name": "stdout",
     "output_type": "stream",
     "text": [
      "1\n",
      "2\n",
      "4\n",
      "5\n",
      "6\n"
     ]
    }
   ],
   "source": [
    "# Note that number 3 is missing in the result\n",
    "i = 0\n",
    "while i < 6:\n",
    "  i += 1\n",
    "  if i == 3:\n",
    "    continue\n",
    "  print(i)"
   ]
  },
  {
   "cell_type": "code",
   "execution_count": 28,
   "id": "ad9e3a22",
   "metadata": {},
   "outputs": [
    {
     "name": "stdout",
     "output_type": "stream",
     "text": [
      "1\n",
      "2\n",
      "3\n",
      "4\n",
      "5\n",
      "i is no longer less than 6\n"
     ]
    }
   ],
   "source": [
    " # With the else statement we can run a block of code once when the condition no longer is true:\n",
    "I = 1\n",
    "while I < 6:\n",
    "  print(I)\n",
    "  I += 1\n",
    "else:\n",
    "  print(\"i is no longer less than 6\")"
   ]
  },
  {
   "cell_type": "markdown",
   "id": "233c0c70",
   "metadata": {},
   "source": [
    "# LISTS"
   ]
  },
  {
   "cell_type": "code",
   "execution_count": 29,
   "id": "a1fc9b2b",
   "metadata": {},
   "outputs": [
    {
     "name": "stdout",
     "output_type": "stream",
     "text": [
      "['apple', 'banana', 'cherry']\n"
     ]
    }
   ],
   "source": [
    " # Lists are used to store multiple items in a single variable.\n",
    " # Lists are one of 4 built-in data types in Python used to store collections of data,\n",
    " # the other 3 are Tuple, Set, and Dictionary, all with different qualities and usage. ###\n",
    "    \n",
    "Thislist = [\"apple\", \"banana\", \"cherry\"]\n",
    "print(Thislist)"
   ]
  },
  {
   "cell_type": "code",
   "execution_count": 30,
   "id": "5d8a4b4f",
   "metadata": {},
   "outputs": [
    {
     "name": "stdout",
     "output_type": "stream",
     "text": [
      "apple\n"
     ]
    }
   ],
   "source": [
    "Thislist = [\"apple\", \"banana\", \"cherry\"]\n",
    "print(Thislist[0])"
   ]
  },
  {
   "cell_type": "code",
   "execution_count": 31,
   "id": "bc0822a5",
   "metadata": {},
   "outputs": [
    {
     "name": "stdout",
     "output_type": "stream",
     "text": [
      "cherry\n"
     ]
    }
   ],
   "source": [
    "Thislist = [\"apple\", \"banana\", \"cherry\"]\n",
    "print(Thislist[-1])"
   ]
  },
  {
   "cell_type": "code",
   "execution_count": 38,
   "id": "98fb8357",
   "metadata": {},
   "outputs": [
    {
     "name": "stdout",
     "output_type": "stream",
     "text": [
      "['apple', 'banana', 'cherry']\n",
      "['apple', 'banana', 'cherry', 'apple', 'cherry']\n"
     ]
    }
   ],
   "source": [
    "Thislist = [\"apple\", \"banana\", \"cherry\", \"apple\", \"cherry\"]\n",
    "Thislist [0]= \"apple\"\n",
    "print(Thislist[0:3])\n",
    "print(Thislist)"
   ]
  },
  {
   "cell_type": "code",
   "execution_count": 40,
   "id": "2fcbf971",
   "metadata": {},
   "outputs": [
    {
     "name": "stdout",
     "output_type": "stream",
     "text": [
      "['apple', 'orange', 'banana', 'cherry']\n"
     ]
    }
   ],
   "source": [
    " fruits = ['apple', 'banana', 'cherry']      # Insert the value \"orange\" as the second element of the fruit list\n",
    "fruits.insert(1, \"orange\")        #Method ,append(),clear(),copy(),count(),extend(),index(),insert(),pop(),remove(),reverse(),sort()\n",
    "print(fruits)"
   ]
  },
  {
   "cell_type": "markdown",
   "id": "a4e94ef9",
   "metadata": {},
   "source": [
    "# Python For Loops"
   ]
  },
  {
   "cell_type": "code",
   "execution_count": 5,
   "id": "4703ad02",
   "metadata": {},
   "outputs": [
    {
     "name": "stdout",
     "output_type": "stream",
     "text": [
      "1\n",
      "2\n",
      "3\n",
      "4\n",
      "5\n",
      "6\n",
      "7\n",
      "8\n",
      "9\n"
     ]
    }
   ],
   "source": [
    "numbers =[1,2,3,4,5,6,7,8,9] #this code is for loop ----/----for item in numbers :--------/-----\n",
    "for item in numbers :\n",
    "    print(item)"
   ]
  },
  {
   "cell_type": "code",
   "execution_count": 6,
   "id": "0fa6d473",
   "metadata": {},
   "outputs": [
    {
     "name": "stdout",
     "output_type": "stream",
     "text": [
      "apple\n",
      "banana\n",
      "cherry\n"
     ]
    }
   ],
   "source": [
    "fruits = [\"apple\", \"banana\", \"cherry\"]  #this code is for loop ----/----for in in fruits :--------/-----\n",
    "for x in fruits:\n",
    "  print(x)"
   ]
  },
  {
   "cell_type": "markdown",
   "id": "9f612d6b",
   "metadata": {},
   "source": [
    "# Range"
   ]
  },
  {
   "cell_type": "code",
   "execution_count": 9,
   "id": "894cec00",
   "metadata": {},
   "outputs": [
    {
     "name": "stdout",
     "output_type": "stream",
     "text": [
      "0\n",
      "1\n",
      "2\n",
      "3\n",
      "4\n"
     ]
    }
   ],
   "source": [
    "numbers = range(5)\n",
    "for number in numbers:\n",
    "     print(number)"
   ]
  },
  {
   "cell_type": "code",
   "execution_count": 11,
   "id": "79815902",
   "metadata": {},
   "outputs": [
    {
     "name": "stdout",
     "output_type": "stream",
     "text": [
      "5\n",
      "6\n",
      "7\n",
      "8\n",
      "9\n"
     ]
    }
   ],
   "source": [
    "numbers = range(5,10)\n",
    "for number in numbers:\n",
    "     print(number)"
   ]
  },
  {
   "cell_type": "code",
   "execution_count": 3,
   "id": "4341774d",
   "metadata": {},
   "outputs": [
    {
     "name": "stdout",
     "output_type": "stream",
     "text": [
      "5\n",
      "7\n",
      "9\n"
     ]
    }
   ],
   "source": [
    "numbers = range(5,10,2) # we can jamp tha numbers\n",
    "for number in numbers:\n",
    "     print(number)"
   ]
  },
  {
   "cell_type": "code",
   "execution_count": 2,
   "id": "01859850",
   "metadata": {},
   "outputs": [
    {
     "name": "stdout",
     "output_type": "stream",
     "text": [
      "0\n",
      "1\n",
      "2\n",
      "3\n",
      "4\n"
     ]
    }
   ],
   "source": [
    "for number in range(5):\n",
    "     print(number)"
   ]
  },
  {
   "cell_type": "markdown",
   "id": "dcf0bff5",
   "metadata": {},
   "source": [
    "# Tuples \n",
    "Tuples are used to store multiple items in a single variable.\n",
    "Tuple is one of 4 built-in data types in Python used to store collections of data, the other 3 are List, Set, and Dictionary, all with different qualities and usage.\n",
    "\n",
    "A tuple is a collection which is ordered and unchangeable.\n",
    "\n",
    "Tuples are written with round brackets."
   ]
  },
  {
   "cell_type": "code",
   "execution_count": 1,
   "id": "70bd843b",
   "metadata": {},
   "outputs": [
    {
     "name": "stdout",
     "output_type": "stream",
     "text": [
      "('apple', 'banana', 'cherry')\n"
     ]
    }
   ],
   "source": [
    "thistuple = (\"apple\", \"banana\", \"cherry\")\n",
    "print(thistuple)"
   ]
  },
  {
   "cell_type": "code",
   "execution_count": null,
   "id": "1c1fbce9",
   "metadata": {},
   "outputs": [],
   "source": []
  }
 ],
 "metadata": {
  "kernelspec": {
   "display_name": "Python 3 (ipykernel)",
   "language": "python",
   "name": "python3"
  },
  "language_info": {
   "codemirror_mode": {
    "name": "ipython",
    "version": 3
   },
   "file_extension": ".py",
   "mimetype": "text/x-python",
   "name": "python",
   "nbconvert_exporter": "python",
   "pygments_lexer": "ipython3",
   "version": "3.10.9"
  }
 },
 "nbformat": 4,
 "nbformat_minor": 5
}
